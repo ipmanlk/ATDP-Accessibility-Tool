{
 "cells": [
  {
   "cell_type": "code",
   "execution_count": 5,
   "id": "69dcc134",
   "metadata": {},
   "outputs": [],
   "source": [
    "import tkinter as tk\n",
    "import tkinter.font as font\n",
    "from tkinter import Tk, Frame, Button, Label\n",
    "from PIL import ImageTk, Image  \n",
    "\n",
    "class Main(Frame):\n",
    "\n",
    "    def __init__(self):\n",
    "        super().__init__()\n",
    "\n",
    "        self.initUI()\n",
    "\n",
    "\n",
    "    def initUI(self):\n",
    "        self.master.title(\"ATDP\")\n",
    "        self.pack(fill=tk.BOTH, expand=True)\n",
    "    \n",
    "        # background img\n",
    "        background_img = Image.open(\"res/background.png\")\n",
    "        background_img = background_img.resize((811, 456), Image.ANTIALIAS)\n",
    "        background_img = ImageTk.PhotoImage(background_img)\n",
    "        background = Label(self, image=background_img)\n",
    "        background.image = background_img\n",
    "    \n",
    "        background.place(x=0,y=0)\n",
    "        \n",
    "        \n",
    "        btns_frame = Frame(self, borderwidth=1)\n",
    "        btns_frame.pack(fill=tk.X, side=\"bottom\")\n",
    "        \n",
    "        btn_launch = Button(btns_frame, text=\"Launch\", width=15,height=2)\n",
    "        btn_launch.pack(side=tk.RIGHT, padx=5, pady=5)\n",
    "    \n",
    "        \n",
    "def main():\n",
    "\n",
    "    root = Tk()\n",
    "    root.geometry(\"811x506\")\n",
    "    app = Main()\n",
    "    root.mainloop()\n",
    "\n",
    "\n",
    "if __name__ == '__main__':\n",
    "    main()"
   ]
  },
  {
   "cell_type": "code",
   "execution_count": null,
   "id": "ac2c4f75",
   "metadata": {},
   "outputs": [],
   "source": []
  },
  {
   "cell_type": "code",
   "execution_count": null,
   "id": "c72f711f",
   "metadata": {},
   "outputs": [],
   "source": []
  }
 ],
 "metadata": {
  "kernelspec": {
   "display_name": "Python 3 (ipykernel)",
   "language": "python",
   "name": "python3"
  },
  "language_info": {
   "codemirror_mode": {
    "name": "ipython",
    "version": 3
   },
   "file_extension": ".py",
   "mimetype": "text/x-python",
   "name": "python",
   "nbconvert_exporter": "python",
   "pygments_lexer": "ipython3",
   "version": "3.9.7"
  }
 },
 "nbformat": 4,
 "nbformat_minor": 5
}
