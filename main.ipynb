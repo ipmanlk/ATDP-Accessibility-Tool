{
 "cells": [
  {
   "cell_type": "code",
   "execution_count": 11,
   "id": "bebeee29",
   "metadata": {},
   "outputs": [],
   "source": [
    "import cv2\n",
    "import numpy as np\n",
    "import pyautogui\n",
    "import math\n",
    "\n",
    "def start_opencv():\n",
    "    nose_cascade = cv2.CascadeClassifier('classifiers/haarcascade_mcs_nose.xml')\n",
    "\n",
    "    if nose_cascade.empty():\n",
    "        raise IOError('Unable to load the nose cascade classifier xml file')\n",
    "\n",
    "\n",
    "    pyautogui.FAILSAFE = False\n",
    "    SCREEN_X, SCREEN_Y = pyautogui.size()\n",
    "\n",
    "    cap = cv2.VideoCapture(0)\n",
    "    ds_factor = 0.5\n",
    "\n",
    "    settings = open(\"settings.txt\", \"r\")\n",
    "    speed = int(settings.read())\n",
    "\n",
    "    while True:\n",
    "        ret, frame = cap.read()\n",
    "        frame = cv2.resize(frame, None, fx=ds_factor, fy=ds_factor, interpolation=cv2.INTER_AREA)\n",
    "        frame = cv2.flip(frame, 1)\n",
    "        gray = cv2.cvtColor(frame, cv2.COLOR_BGR2GRAY)\n",
    "\n",
    "        CAMERA_X, CAMERA_Y, channels = frame.shape\n",
    "    \n",
    "        nose_rects = nose_cascade.detectMultiScale(gray, 1.3, 5)\n",
    "        for (x,y,w,h) in nose_rects:\n",
    "            cv2.rectangle(frame, (x,y), (x+w,y+h), (0,255,0), 3)\n",
    "            c_x = x\n",
    "            c_y = y\n",
    "            c_x = x * (SCREEN_X / CAMERA_X) + speed\n",
    "            c_y = y * (SCREEN_Y / CAMERA_Y) + speed\n",
    "                \n",
    "            pyautogui.moveTo(c_x,c_y)\n",
    "\n",
    "        cv2.imshow('Nose Detector', frame)\n",
    "\n",
    "        c = cv2.waitKey(1)\n",
    "        if c == 27:\n",
    "            break\n",
    "\n",
    "    cap.release()\n",
    "    cv2.destroyAllWindows()\n",
    "    \n",
    "start_opencv()"
   ]
  },
  {
   "cell_type": "code",
   "execution_count": null,
   "id": "90cf272d",
   "metadata": {},
   "outputs": [],
   "source": []
  },
  {
   "cell_type": "code",
   "execution_count": null,
   "id": "0b0e522e",
   "metadata": {},
   "outputs": [],
   "source": []
  }
 ],
 "metadata": {
  "kernelspec": {
   "display_name": "Python 3 (ipykernel)",
   "language": "python",
   "name": "python3"
  },
  "language_info": {
   "codemirror_mode": {
    "name": "ipython",
    "version": 3
   },
   "file_extension": ".py",
   "mimetype": "text/x-python",
   "name": "python",
   "nbconvert_exporter": "python",
   "pygments_lexer": "ipython3",
   "version": "3.9.7"
  }
 },
 "nbformat": 4,
 "nbformat_minor": 5
}
